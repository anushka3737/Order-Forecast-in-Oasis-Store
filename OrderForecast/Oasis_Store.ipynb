{
  "cells": [
    {
      "cell_type": "code",
      "execution_count": 1,
      "id": "1759fd6f",
      "metadata": {
        "id": "1759fd6f"
      },
      "outputs": [],
      "source": [
        "import pandas as pd\n",
        "import matplotlib.pyplot as plt\n",
        "import numpy as np\n",
        "import seaborn as sns\n",
        "from sklearn.preprocessing import LabelEncoder\n",
        "from sklearn.model_selection import train_test_split\n",
        "from xgboost import XGBRegressor\n",
        "from sklearn import metrics\n",
        "\n",
        "plt.style.use('seaborn')\n",
        "\n",
        "pd.set_option('display.max_rows', 250)\n",
        "%matplotlib inline"
      ]
    },
    {
      "cell_type": "code",
      "execution_count": 2,
      "id": "e615e7d2",
      "metadata": {
        "id": "e615e7d2"
      },
      "outputs": [],
      "source": [
        "df = pd.read_csv('oasis_data.csv')"
      ]
    },
    {
      "cell_type": "code",
      "execution_count": 3,
      "id": "bf767d23",
      "metadata": {
        "colab": {
          "base_uri": "https://localhost:8080/",
          "height": 423
        },
        "id": "bf767d23",
        "outputId": "f8a74315-101c-46d2-8477-4f9b91866256"
      },
      "outputs": [
        {
          "output_type": "execute_result",
          "data": {
            "text/plain": [
              "      Purchase Date                                    Product Name  \\\n",
              "0        09-09-2021                              Macbook Pro 13” i7   \n",
              "1        09-09-2021                              Macbook Pro 13” i7   \n",
              "2        09-09-2021      Dell Multi-device Wireless Mouse - MS5320W   \n",
              "3        09-09-2021                               Apple Magic Mouse   \n",
              "4        09-09-2021                               Apple Magic Mouse   \n",
              "...             ...                                             ...   \n",
              "25025    21-03-2022                   Dell Latitude 7420 14\" 2-in-1   \n",
              "25026    21-03-2022  Dell Wireless Keyboard & Mouse Combo - KM7120W   \n",
              "25027    21-03-2022                 Jabra Evolve 40 - Wired Headset   \n",
              "25028    21-03-2022                                Jabra Evolve2 40   \n",
              "25029    21-03-2022                      Dell Precision 5560 15” i7   \n",
              "\n",
              "                        OEM  Item Price USD  Ordered Qty  Row Total  \\\n",
              "0               apple-13-i7         1811.00            1    1811.00   \n",
              "1               apple-13-i7         1811.00            1    1811.00   \n",
              "2              dell-MS5320W           25.00            1      25.00   \n",
              "3         apple-magic-mouse          100.00            1     100.00   \n",
              "4         apple-magic-mouse          100.00            1     100.00   \n",
              "...                     ...             ...          ...        ...   \n",
              "25025        dell-7420-emea         1360.00            1    1360.00   \n",
              "25026     dell-KM7120W-emea           40.00            1      40.00   \n",
              "25027   jabra-evolve40-emea           79.00            1      79.00   \n",
              "25028  rakesh-24089-989-899        10800.00            1   10800.00   \n",
              "25029       dell-5560-india       205620.87            1  205620.87   \n",
              "\n",
              "      Shipping Country Region  \n",
              "0             Bulgaria   EMEA  \n",
              "1             Bulgaria   EMEA  \n",
              "2        United States   EMEA  \n",
              "3             Bulgaria    NaN  \n",
              "4             Bulgaria    NaN  \n",
              "...                ...    ...  \n",
              "25025   United Kingdom   EMEA  \n",
              "25026         Bulgaria   EMEA  \n",
              "25027         Bulgaria   EMEA  \n",
              "25028            India   APAC  \n",
              "25029            India   APAC  \n",
              "\n",
              "[25030 rows x 8 columns]"
            ],
            "text/html": [
              "\n",
              "  <div id=\"df-f8687d72-c8cb-4e99-bc57-163903fdea5b\">\n",
              "    <div class=\"colab-df-container\">\n",
              "      <div>\n",
              "<style scoped>\n",
              "    .dataframe tbody tr th:only-of-type {\n",
              "        vertical-align: middle;\n",
              "    }\n",
              "\n",
              "    .dataframe tbody tr th {\n",
              "        vertical-align: top;\n",
              "    }\n",
              "\n",
              "    .dataframe thead th {\n",
              "        text-align: right;\n",
              "    }\n",
              "</style>\n",
              "<table border=\"1\" class=\"dataframe\">\n",
              "  <thead>\n",
              "    <tr style=\"text-align: right;\">\n",
              "      <th></th>\n",
              "      <th>Purchase Date</th>\n",
              "      <th>Product Name</th>\n",
              "      <th>OEM</th>\n",
              "      <th>Item Price USD</th>\n",
              "      <th>Ordered Qty</th>\n",
              "      <th>Row Total</th>\n",
              "      <th>Shipping Country</th>\n",
              "      <th>Region</th>\n",
              "    </tr>\n",
              "  </thead>\n",
              "  <tbody>\n",
              "    <tr>\n",
              "      <th>0</th>\n",
              "      <td>09-09-2021</td>\n",
              "      <td>Macbook Pro 13” i7</td>\n",
              "      <td>apple-13-i7</td>\n",
              "      <td>1811.00</td>\n",
              "      <td>1</td>\n",
              "      <td>1811.00</td>\n",
              "      <td>Bulgaria</td>\n",
              "      <td>EMEA</td>\n",
              "    </tr>\n",
              "    <tr>\n",
              "      <th>1</th>\n",
              "      <td>09-09-2021</td>\n",
              "      <td>Macbook Pro 13” i7</td>\n",
              "      <td>apple-13-i7</td>\n",
              "      <td>1811.00</td>\n",
              "      <td>1</td>\n",
              "      <td>1811.00</td>\n",
              "      <td>Bulgaria</td>\n",
              "      <td>EMEA</td>\n",
              "    </tr>\n",
              "    <tr>\n",
              "      <th>2</th>\n",
              "      <td>09-09-2021</td>\n",
              "      <td>Dell Multi-device Wireless Mouse - MS5320W</td>\n",
              "      <td>dell-MS5320W</td>\n",
              "      <td>25.00</td>\n",
              "      <td>1</td>\n",
              "      <td>25.00</td>\n",
              "      <td>United States</td>\n",
              "      <td>EMEA</td>\n",
              "    </tr>\n",
              "    <tr>\n",
              "      <th>3</th>\n",
              "      <td>09-09-2021</td>\n",
              "      <td>Apple Magic Mouse</td>\n",
              "      <td>apple-magic-mouse</td>\n",
              "      <td>100.00</td>\n",
              "      <td>1</td>\n",
              "      <td>100.00</td>\n",
              "      <td>Bulgaria</td>\n",
              "      <td>NaN</td>\n",
              "    </tr>\n",
              "    <tr>\n",
              "      <th>4</th>\n",
              "      <td>09-09-2021</td>\n",
              "      <td>Apple Magic Mouse</td>\n",
              "      <td>apple-magic-mouse</td>\n",
              "      <td>100.00</td>\n",
              "      <td>1</td>\n",
              "      <td>100.00</td>\n",
              "      <td>Bulgaria</td>\n",
              "      <td>NaN</td>\n",
              "    </tr>\n",
              "    <tr>\n",
              "      <th>...</th>\n",
              "      <td>...</td>\n",
              "      <td>...</td>\n",
              "      <td>...</td>\n",
              "      <td>...</td>\n",
              "      <td>...</td>\n",
              "      <td>...</td>\n",
              "      <td>...</td>\n",
              "      <td>...</td>\n",
              "    </tr>\n",
              "    <tr>\n",
              "      <th>25025</th>\n",
              "      <td>21-03-2022</td>\n",
              "      <td>Dell Latitude 7420 14\" 2-in-1</td>\n",
              "      <td>dell-7420-emea</td>\n",
              "      <td>1360.00</td>\n",
              "      <td>1</td>\n",
              "      <td>1360.00</td>\n",
              "      <td>United Kingdom</td>\n",
              "      <td>EMEA</td>\n",
              "    </tr>\n",
              "    <tr>\n",
              "      <th>25026</th>\n",
              "      <td>21-03-2022</td>\n",
              "      <td>Dell Wireless Keyboard &amp; Mouse Combo - KM7120W</td>\n",
              "      <td>dell-KM7120W-emea</td>\n",
              "      <td>40.00</td>\n",
              "      <td>1</td>\n",
              "      <td>40.00</td>\n",
              "      <td>Bulgaria</td>\n",
              "      <td>EMEA</td>\n",
              "    </tr>\n",
              "    <tr>\n",
              "      <th>25027</th>\n",
              "      <td>21-03-2022</td>\n",
              "      <td>Jabra Evolve 40 - Wired Headset</td>\n",
              "      <td>jabra-evolve40-emea</td>\n",
              "      <td>79.00</td>\n",
              "      <td>1</td>\n",
              "      <td>79.00</td>\n",
              "      <td>Bulgaria</td>\n",
              "      <td>EMEA</td>\n",
              "    </tr>\n",
              "    <tr>\n",
              "      <th>25028</th>\n",
              "      <td>21-03-2022</td>\n",
              "      <td>Jabra Evolve2 40</td>\n",
              "      <td>rakesh-24089-989-899</td>\n",
              "      <td>10800.00</td>\n",
              "      <td>1</td>\n",
              "      <td>10800.00</td>\n",
              "      <td>India</td>\n",
              "      <td>APAC</td>\n",
              "    </tr>\n",
              "    <tr>\n",
              "      <th>25029</th>\n",
              "      <td>21-03-2022</td>\n",
              "      <td>Dell Precision 5560 15” i7</td>\n",
              "      <td>dell-5560-india</td>\n",
              "      <td>205620.87</td>\n",
              "      <td>1</td>\n",
              "      <td>205620.87</td>\n",
              "      <td>India</td>\n",
              "      <td>APAC</td>\n",
              "    </tr>\n",
              "  </tbody>\n",
              "</table>\n",
              "<p>25030 rows × 8 columns</p>\n",
              "</div>\n",
              "      <button class=\"colab-df-convert\" onclick=\"convertToInteractive('df-f8687d72-c8cb-4e99-bc57-163903fdea5b')\"\n",
              "              title=\"Convert this dataframe to an interactive table.\"\n",
              "              style=\"display:none;\">\n",
              "        \n",
              "  <svg xmlns=\"http://www.w3.org/2000/svg\" height=\"24px\"viewBox=\"0 0 24 24\"\n",
              "       width=\"24px\">\n",
              "    <path d=\"M0 0h24v24H0V0z\" fill=\"none\"/>\n",
              "    <path d=\"M18.56 5.44l.94 2.06.94-2.06 2.06-.94-2.06-.94-.94-2.06-.94 2.06-2.06.94zm-11 1L8.5 8.5l.94-2.06 2.06-.94-2.06-.94L8.5 2.5l-.94 2.06-2.06.94zm10 10l.94 2.06.94-2.06 2.06-.94-2.06-.94-.94-2.06-.94 2.06-2.06.94z\"/><path d=\"M17.41 7.96l-1.37-1.37c-.4-.4-.92-.59-1.43-.59-.52 0-1.04.2-1.43.59L10.3 9.45l-7.72 7.72c-.78.78-.78 2.05 0 2.83L4 21.41c.39.39.9.59 1.41.59.51 0 1.02-.2 1.41-.59l7.78-7.78 2.81-2.81c.8-.78.8-2.07 0-2.86zM5.41 20L4 18.59l7.72-7.72 1.47 1.35L5.41 20z\"/>\n",
              "  </svg>\n",
              "      </button>\n",
              "      \n",
              "  <style>\n",
              "    .colab-df-container {\n",
              "      display:flex;\n",
              "      flex-wrap:wrap;\n",
              "      gap: 12px;\n",
              "    }\n",
              "\n",
              "    .colab-df-convert {\n",
              "      background-color: #E8F0FE;\n",
              "      border: none;\n",
              "      border-radius: 50%;\n",
              "      cursor: pointer;\n",
              "      display: none;\n",
              "      fill: #1967D2;\n",
              "      height: 32px;\n",
              "      padding: 0 0 0 0;\n",
              "      width: 32px;\n",
              "    }\n",
              "\n",
              "    .colab-df-convert:hover {\n",
              "      background-color: #E2EBFA;\n",
              "      box-shadow: 0px 1px 2px rgba(60, 64, 67, 0.3), 0px 1px 3px 1px rgba(60, 64, 67, 0.15);\n",
              "      fill: #174EA6;\n",
              "    }\n",
              "\n",
              "    [theme=dark] .colab-df-convert {\n",
              "      background-color: #3B4455;\n",
              "      fill: #D2E3FC;\n",
              "    }\n",
              "\n",
              "    [theme=dark] .colab-df-convert:hover {\n",
              "      background-color: #434B5C;\n",
              "      box-shadow: 0px 1px 3px 1px rgba(0, 0, 0, 0.15);\n",
              "      filter: drop-shadow(0px 1px 2px rgba(0, 0, 0, 0.3));\n",
              "      fill: #FFFFFF;\n",
              "    }\n",
              "  </style>\n",
              "\n",
              "      <script>\n",
              "        const buttonEl =\n",
              "          document.querySelector('#df-f8687d72-c8cb-4e99-bc57-163903fdea5b button.colab-df-convert');\n",
              "        buttonEl.style.display =\n",
              "          google.colab.kernel.accessAllowed ? 'block' : 'none';\n",
              "\n",
              "        async function convertToInteractive(key) {\n",
              "          const element = document.querySelector('#df-f8687d72-c8cb-4e99-bc57-163903fdea5b');\n",
              "          const dataTable =\n",
              "            await google.colab.kernel.invokeFunction('convertToInteractive',\n",
              "                                                     [key], {});\n",
              "          if (!dataTable) return;\n",
              "\n",
              "          const docLinkHtml = 'Like what you see? Visit the ' +\n",
              "            '<a target=\"_blank\" href=https://colab.research.google.com/notebooks/data_table.ipynb>data table notebook</a>'\n",
              "            + ' to learn more about interactive tables.';\n",
              "          element.innerHTML = '';\n",
              "          dataTable['output_type'] = 'display_data';\n",
              "          await google.colab.output.renderOutput(dataTable, element);\n",
              "          const docLink = document.createElement('div');\n",
              "          docLink.innerHTML = docLinkHtml;\n",
              "          element.appendChild(docLink);\n",
              "        }\n",
              "      </script>\n",
              "    </div>\n",
              "  </div>\n",
              "  "
            ]
          },
          "metadata": {},
          "execution_count": 3
        }
      ],
      "source": [
        "df"
      ]
    },
    {
      "cell_type": "code",
      "execution_count": 4,
      "id": "bef8ea62",
      "metadata": {
        "colab": {
          "base_uri": "https://localhost:8080/"
        },
        "id": "bef8ea62",
        "outputId": "aa15eba1-ebbf-4140-964b-0c5978a89ab7"
      },
      "outputs": [
        {
          "output_type": "execute_result",
          "data": {
            "text/plain": [
              "(25030, 8)"
            ]
          },
          "metadata": {},
          "execution_count": 4
        }
      ],
      "source": [
        "#number of features & data points\n",
        "df.shape\n"
      ]
    },
    {
      "cell_type": "code",
      "execution_count": 5,
      "id": "6e55cbb1",
      "metadata": {
        "colab": {
          "base_uri": "https://localhost:8080/"
        },
        "id": "6e55cbb1",
        "outputId": "512b08df-214a-436b-c892-9a9ce82a497c"
      },
      "outputs": [
        {
          "output_type": "stream",
          "name": "stdout",
          "text": [
            "<class 'pandas.core.frame.DataFrame'>\n",
            "RangeIndex: 25030 entries, 0 to 25029\n",
            "Data columns (total 8 columns):\n",
            " #   Column            Non-Null Count  Dtype  \n",
            "---  ------            --------------  -----  \n",
            " 0   Purchase Date     25030 non-null  object \n",
            " 1   Product Name      25030 non-null  object \n",
            " 2   OEM               25030 non-null  object \n",
            " 3   Item Price USD    25030 non-null  float64\n",
            " 4   Ordered Qty       25030 non-null  int64  \n",
            " 5   Row Total         25030 non-null  float64\n",
            " 6   Shipping Country  25030 non-null  object \n",
            " 7   Region            24421 non-null  object \n",
            "dtypes: float64(2), int64(1), object(5)\n",
            "memory usage: 1.5+ MB\n"
          ]
        }
      ],
      "source": [
        "#getting some info about dataset\n",
        "df.info()"
      ]
    },
    {
      "cell_type": "code",
      "execution_count": 6,
      "id": "6eb00aaa",
      "metadata": {
        "colab": {
          "base_uri": "https://localhost:8080/"
        },
        "id": "6eb00aaa",
        "outputId": "0dea12d8-2ee5-46c4-dd73-f37ab5d7c570"
      },
      "outputs": [
        {
          "output_type": "execute_result",
          "data": {
            "text/plain": [
              "Purchase Date         0\n",
              "Product Name          0\n",
              "OEM                   0\n",
              "Item Price USD        0\n",
              "Ordered Qty           0\n",
              "Row Total             0\n",
              "Shipping Country      0\n",
              "Region              609\n",
              "dtype: int64"
            ]
          },
          "metadata": {},
          "execution_count": 6
        }
      ],
      "source": [
        "#categorical features\n",
        " # Region\n",
        " # Shipping Country\n",
        " # OEM\n",
        " # Product Name\n",
        "\n",
        "#check for missing values\n",
        "df.isnull().sum()\n",
        "\n"
      ]
    },
    {
      "cell_type": "code",
      "execution_count": 7,
      "id": "4ad5571c",
      "metadata": {
        "colab": {
          "base_uri": "https://localhost:8080/"
        },
        "id": "4ad5571c",
        "outputId": "a7101025-f46e-492a-8139-0433a2ef78c9"
      },
      "outputs": [
        {
          "output_type": "stream",
          "name": "stdout",
          "text": [
            "Shipping Country Argentina Armenia Australia Austria Belgium Brazil Bulgaria  \\\n",
            "Region                AMER    EMEA      APAC    EMEA    EMEA   AMER     EMEA   \n",
            "\n",
            "Shipping Country Canada Chile China  ... Sweden Switzerland  \\\n",
            "Region             AMER  AMER  APAC  ...   EMEA        EMEA   \n",
            "\n",
            "Shipping Country Taiwan, Province of China Thailand Turkey Ukraine  \\\n",
            "Region                                APAC     APAC   EMEA    EMEA   \n",
            "\n",
            "Shipping Country United Arab Emirates United Kingdom United States Vietnam  \n",
            "Region                           EMEA           EMEA          AMER    APAC  \n",
            "\n",
            "[1 rows x 63 columns]\n"
          ]
        }
      ],
      "source": [
        "#handling missing values\n",
        "  # mode -> most repeated value\n",
        "\n",
        "#replacing missing values in \"Region\" with mode \n",
        "\n",
        "mode_of_Region = df.pivot_table(values = 'Region', columns = 'Shipping Country', aggfunc=(lambda x: x.mode()[0]))\n",
        "print(mode_of_Region)"
      ]
    },
    {
      "cell_type": "code",
      "execution_count": 8,
      "id": "d2f56a8e",
      "metadata": {
        "id": "d2f56a8e"
      },
      "outputs": [],
      "source": [
        "missing_values = df['Region'].isnull()"
      ]
    },
    {
      "cell_type": "code",
      "execution_count": 9,
      "id": "9064cc45",
      "metadata": {
        "colab": {
          "base_uri": "https://localhost:8080/"
        },
        "id": "9064cc45",
        "outputId": "b5590311-dc89-4c4f-bac2-24e6609b074c"
      },
      "outputs": [
        {
          "output_type": "stream",
          "name": "stdout",
          "text": [
            "0        False\n",
            "1        False\n",
            "2        False\n",
            "3         True\n",
            "4         True\n",
            "         ...  \n",
            "25025    False\n",
            "25026    False\n",
            "25027    False\n",
            "25028    False\n",
            "25029    False\n",
            "Name: Region, Length: 25030, dtype: bool\n"
          ]
        }
      ],
      "source": [
        "print(missing_values)"
      ]
    },
    {
      "cell_type": "code",
      "execution_count": 10,
      "id": "42f077d6",
      "metadata": {
        "id": "42f077d6"
      },
      "outputs": [],
      "source": [
        "df.loc[missing_values, 'Region'] = df.loc[missing_values , 'Shipping Country'].apply(lambda x: mode_of_Region)"
      ]
    },
    {
      "cell_type": "code",
      "execution_count": 11,
      "id": "caf9e09a",
      "metadata": {
        "colab": {
          "base_uri": "https://localhost:8080/"
        },
        "id": "caf9e09a",
        "outputId": "4e924fbe-6d81-4e06-f041-9ce6fdd7a793"
      },
      "outputs": [
        {
          "output_type": "execute_result",
          "data": {
            "text/plain": [
              "Purchase Date       0\n",
              "Product Name        0\n",
              "OEM                 0\n",
              "Item Price USD      0\n",
              "Ordered Qty         0\n",
              "Row Total           0\n",
              "Shipping Country    0\n",
              "Region              0\n",
              "dtype: int64"
            ]
          },
          "metadata": {},
          "execution_count": 11
        }
      ],
      "source": [
        "#check again for missing values\n",
        "df.isnull().sum()"
      ]
    },
    {
      "cell_type": "code",
      "execution_count": 12,
      "id": "2122ec55",
      "metadata": {
        "colab": {
          "base_uri": "https://localhost:8080/",
          "height": 300
        },
        "id": "2122ec55",
        "outputId": "310bfb2b-6d39-4706-d879-03a4e9d33f85"
      },
      "outputs": [
        {
          "output_type": "execute_result",
          "data": {
            "text/plain": [
              "       Item Price USD   Ordered Qty      Row Total\n",
              "count    25030.000000  25030.000000   25030.000000\n",
              "mean      5616.649270      1.000879    5620.239376\n",
              "std      27387.133718      0.032218   27390.278117\n",
              "min          0.000000      1.000000       0.000000\n",
              "25%         79.000000      1.000000      79.000000\n",
              "50%        199.000000      1.000000     199.000000\n",
              "75%        616.880000      1.000000     616.880000\n",
              "max     240802.940000      3.000000  240802.940000"
            ],
            "text/html": [
              "\n",
              "  <div id=\"df-2d72d2c3-7386-4e81-bcfc-f8d1204f1a2c\">\n",
              "    <div class=\"colab-df-container\">\n",
              "      <div>\n",
              "<style scoped>\n",
              "    .dataframe tbody tr th:only-of-type {\n",
              "        vertical-align: middle;\n",
              "    }\n",
              "\n",
              "    .dataframe tbody tr th {\n",
              "        vertical-align: top;\n",
              "    }\n",
              "\n",
              "    .dataframe thead th {\n",
              "        text-align: right;\n",
              "    }\n",
              "</style>\n",
              "<table border=\"1\" class=\"dataframe\">\n",
              "  <thead>\n",
              "    <tr style=\"text-align: right;\">\n",
              "      <th></th>\n",
              "      <th>Item Price USD</th>\n",
              "      <th>Ordered Qty</th>\n",
              "      <th>Row Total</th>\n",
              "    </tr>\n",
              "  </thead>\n",
              "  <tbody>\n",
              "    <tr>\n",
              "      <th>count</th>\n",
              "      <td>25030.000000</td>\n",
              "      <td>25030.000000</td>\n",
              "      <td>25030.000000</td>\n",
              "    </tr>\n",
              "    <tr>\n",
              "      <th>mean</th>\n",
              "      <td>5616.649270</td>\n",
              "      <td>1.000879</td>\n",
              "      <td>5620.239376</td>\n",
              "    </tr>\n",
              "    <tr>\n",
              "      <th>std</th>\n",
              "      <td>27387.133718</td>\n",
              "      <td>0.032218</td>\n",
              "      <td>27390.278117</td>\n",
              "    </tr>\n",
              "    <tr>\n",
              "      <th>min</th>\n",
              "      <td>0.000000</td>\n",
              "      <td>1.000000</td>\n",
              "      <td>0.000000</td>\n",
              "    </tr>\n",
              "    <tr>\n",
              "      <th>25%</th>\n",
              "      <td>79.000000</td>\n",
              "      <td>1.000000</td>\n",
              "      <td>79.000000</td>\n",
              "    </tr>\n",
              "    <tr>\n",
              "      <th>50%</th>\n",
              "      <td>199.000000</td>\n",
              "      <td>1.000000</td>\n",
              "      <td>199.000000</td>\n",
              "    </tr>\n",
              "    <tr>\n",
              "      <th>75%</th>\n",
              "      <td>616.880000</td>\n",
              "      <td>1.000000</td>\n",
              "      <td>616.880000</td>\n",
              "    </tr>\n",
              "    <tr>\n",
              "      <th>max</th>\n",
              "      <td>240802.940000</td>\n",
              "      <td>3.000000</td>\n",
              "      <td>240802.940000</td>\n",
              "    </tr>\n",
              "  </tbody>\n",
              "</table>\n",
              "</div>\n",
              "      <button class=\"colab-df-convert\" onclick=\"convertToInteractive('df-2d72d2c3-7386-4e81-bcfc-f8d1204f1a2c')\"\n",
              "              title=\"Convert this dataframe to an interactive table.\"\n",
              "              style=\"display:none;\">\n",
              "        \n",
              "  <svg xmlns=\"http://www.w3.org/2000/svg\" height=\"24px\"viewBox=\"0 0 24 24\"\n",
              "       width=\"24px\">\n",
              "    <path d=\"M0 0h24v24H0V0z\" fill=\"none\"/>\n",
              "    <path d=\"M18.56 5.44l.94 2.06.94-2.06 2.06-.94-2.06-.94-.94-2.06-.94 2.06-2.06.94zm-11 1L8.5 8.5l.94-2.06 2.06-.94-2.06-.94L8.5 2.5l-.94 2.06-2.06.94zm10 10l.94 2.06.94-2.06 2.06-.94-2.06-.94-.94-2.06-.94 2.06-2.06.94z\"/><path d=\"M17.41 7.96l-1.37-1.37c-.4-.4-.92-.59-1.43-.59-.52 0-1.04.2-1.43.59L10.3 9.45l-7.72 7.72c-.78.78-.78 2.05 0 2.83L4 21.41c.39.39.9.59 1.41.59.51 0 1.02-.2 1.41-.59l7.78-7.78 2.81-2.81c.8-.78.8-2.07 0-2.86zM5.41 20L4 18.59l7.72-7.72 1.47 1.35L5.41 20z\"/>\n",
              "  </svg>\n",
              "      </button>\n",
              "      \n",
              "  <style>\n",
              "    .colab-df-container {\n",
              "      display:flex;\n",
              "      flex-wrap:wrap;\n",
              "      gap: 12px;\n",
              "    }\n",
              "\n",
              "    .colab-df-convert {\n",
              "      background-color: #E8F0FE;\n",
              "      border: none;\n",
              "      border-radius: 50%;\n",
              "      cursor: pointer;\n",
              "      display: none;\n",
              "      fill: #1967D2;\n",
              "      height: 32px;\n",
              "      padding: 0 0 0 0;\n",
              "      width: 32px;\n",
              "    }\n",
              "\n",
              "    .colab-df-convert:hover {\n",
              "      background-color: #E2EBFA;\n",
              "      box-shadow: 0px 1px 2px rgba(60, 64, 67, 0.3), 0px 1px 3px 1px rgba(60, 64, 67, 0.15);\n",
              "      fill: #174EA6;\n",
              "    }\n",
              "\n",
              "    [theme=dark] .colab-df-convert {\n",
              "      background-color: #3B4455;\n",
              "      fill: #D2E3FC;\n",
              "    }\n",
              "\n",
              "    [theme=dark] .colab-df-convert:hover {\n",
              "      background-color: #434B5C;\n",
              "      box-shadow: 0px 1px 3px 1px rgba(0, 0, 0, 0.15);\n",
              "      filter: drop-shadow(0px 1px 2px rgba(0, 0, 0, 0.3));\n",
              "      fill: #FFFFFF;\n",
              "    }\n",
              "  </style>\n",
              "\n",
              "      <script>\n",
              "        const buttonEl =\n",
              "          document.querySelector('#df-2d72d2c3-7386-4e81-bcfc-f8d1204f1a2c button.colab-df-convert');\n",
              "        buttonEl.style.display =\n",
              "          google.colab.kernel.accessAllowed ? 'block' : 'none';\n",
              "\n",
              "        async function convertToInteractive(key) {\n",
              "          const element = document.querySelector('#df-2d72d2c3-7386-4e81-bcfc-f8d1204f1a2c');\n",
              "          const dataTable =\n",
              "            await google.colab.kernel.invokeFunction('convertToInteractive',\n",
              "                                                     [key], {});\n",
              "          if (!dataTable) return;\n",
              "\n",
              "          const docLinkHtml = 'Like what you see? Visit the ' +\n",
              "            '<a target=\"_blank\" href=https://colab.research.google.com/notebooks/data_table.ipynb>data table notebook</a>'\n",
              "            + ' to learn more about interactive tables.';\n",
              "          element.innerHTML = '';\n",
              "          dataTable['output_type'] = 'display_data';\n",
              "          await google.colab.output.renderOutput(dataTable, element);\n",
              "          const docLink = document.createElement('div');\n",
              "          docLink.innerHTML = docLinkHtml;\n",
              "          element.appendChild(docLink);\n",
              "        }\n",
              "      </script>\n",
              "    </div>\n",
              "  </div>\n",
              "  "
            ]
          },
          "metadata": {},
          "execution_count": 12
        }
      ],
      "source": [
        "#data analysis\n",
        "df.describe()"
      ]
    },
    {
      "cell_type": "code",
      "execution_count": 13,
      "id": "356571dc",
      "metadata": {
        "id": "356571dc"
      },
      "outputs": [],
      "source": [
        "#numerical features plot\n",
        "sns.set()"
      ]
    },
    {
      "cell_type": "code",
      "execution_count": 14,
      "id": "d6e982b1",
      "metadata": {
        "colab": {
          "base_uri": "https://localhost:8080/",
          "height": 669
        },
        "id": "d6e982b1",
        "outputId": "bb69400f-f123-4ed6-bb34-de24d4d0af7e"
      },
      "outputs": [
        {
          "output_type": "stream",
          "name": "stderr",
          "text": [
            "/usr/local/lib/python3.7/dist-packages/seaborn/distributions.py:2619: FutureWarning: `distplot` is a deprecated function and will be removed in a future version. Please adapt your code to use either `displot` (a figure-level function with similar flexibility) or `histplot` (an axes-level function for histograms).\n",
            "  warnings.warn(msg, FutureWarning)\n"
          ]
        },
        {
          "output_type": "display_data",
          "data": {
            "text/plain": [
              "<Figure size 720x720 with 1 Axes>"
            ],
            "image/png": "[encoded data removed]"
          },
          "metadata": {}
        }
      ],
      "source": [
        "plt.figure(figsize=(10,10))\n",
        "sns.distplot(df['Item Price USD'])\n",
        "plt.show()"
      ]
    },
    {
      "cell_type": "code",
      "execution_count": 15,
      "id": "ae3e14f0",
      "metadata": {
        "colab": {
          "base_uri": "https://localhost:8080/",
          "height": 669
        },
        "id": "ae3e14f0",
        "outputId": "88ee39af-a828-408d-a6be-81a678fcd651"
      },
      "outputs": [
        {
          "output_type": "stream",
          "name": "stderr",
          "text": [
            "/usr/local/lib/python3.7/dist-packages/seaborn/distributions.py:2619: FutureWarning: `distplot` is a deprecated function and will be removed in a future version. Please adapt your code to use either `displot` (a figure-level function with similar flexibility) or `histplot` (an axes-level function for histograms).\n",
            "  warnings.warn(msg, FutureWarning)\n"
          ]
        },
        {
          "output_type": "display_data",
          "data": {
            "text/plain": [
              "<Figure size 720x720 with 1 Axes>"
            ],
            "image/png": "[encoded data removed]"
          },
          "metadata": {}
        }
      ],
      "source": [
        "plt.figure(figsize=(10,10))\n",
        "sns.distplot(df['Ordered Qty'])\n",
        "plt.show()"
      ]
    },
    {
      "cell_type": "code",
      "execution_count": 16,
      "id": "59db0594",
      "metadata": {
        "colab": {
          "base_uri": "https://localhost:8080/",
          "height": 669
        },
        "id": "59db0594",
        "outputId": "1a59adef-5c5a-43b8-ec68-1b101acd714a"
      },
      "outputs": [
        {
          "output_type": "stream",
          "name": "stderr",
          "text": [
            "/usr/local/lib/python3.7/dist-packages/seaborn/distributions.py:2619: FutureWarning: `distplot` is a deprecated function and will be removed in a future version. Please adapt your code to use either `displot` (a figure-level function with similar flexibility) or `histplot` (an axes-level function for histograms).\n",
            "  warnings.warn(msg, FutureWarning)\n"
          ]
        },
        {
          "output_type": "display_data",
          "data": {
            "text/plain": [
              "<Figure size 720x720 with 1 Axes>"
            ],
            "image/png": "[encoded data removed]"
          },
          "metadata": {}
        }
      ],
      "source": [
        "plt.figure(figsize=(10,10))\n",
        "sns.distplot(df['Row Total'])\n",
        "plt.show()"
      ]
    },
    {
      "cell_type": "code",
      "execution_count": 17,
      "id": "ea4f0e91",
      "metadata": {
        "colab": {
          "base_uri": "https://localhost:8080/",
          "height": 614
        },
        "id": "ea4f0e91",
        "outputId": "267e6343-0d7c-4e70-d48b-7aa4608ee3c1"
      },
      "outputs": [
        {
          "output_type": "display_data",
          "data": {
            "text/plain": [
              "<Figure size 720x720 with 1 Axes>"
            ],
            "image/png": "[encoded data removed]"
          },
          "metadata": {}
        }
      ],
      "source": [
        "#categorical feature plot\n",
        "plt.figure(figsize=(10,10))\n",
        "sns.countplot(x ='Product Name', data = df)\n",
        "plt.show()"
      ]
    },
    {
      "cell_type": "code",
      "execution_count": 18,
      "id": "f5f57e14",
      "metadata": {
        "colab": {
          "base_uri": "https://localhost:8080/",
          "height": 614
        },
        "id": "f5f57e14",
        "outputId": "1b93f70c-db9a-4603-ec62-2d1bcb19eb44"
      },
      "outputs": [
        {
          "output_type": "display_data",
          "data": {
            "text/plain": [
              "<Figure size 720x720 with 1 Axes>"
            ],
            "image/png": "[encoded data removed]"
          },
          "metadata": {}
        }
      ],
      "source": [
        "plt.figure(figsize=(10,10))\n",
        "sns.countplot(x ='OEM', data = df)\n",
        "plt.show()"
      ]
    },
    {
      "cell_type": "code",
      "execution_count": 19,
      "id": "6c360b90",
      "metadata": {
        "colab": {
          "base_uri": "https://localhost:8080/",
          "height": 614
        },
        "id": "6c360b90",
        "outputId": "57b608e0-b575-4940-fe63-695d1621b385"
      },
      "outputs": [
        {
          "output_type": "display_data",
          "data": {
            "text/plain": [
              "<Figure size 720x720 with 1 Axes>"
            ],
            "image/png": "[encoded data removed]"
          },
          "metadata": {}
        }
      ],
      "source": [
        "plt.figure(figsize=(10,10))\n",
        "sns.countplot(x ='Shipping Country', data = df)\n",
        "plt.show()"
      ]
    },
    {
      "cell_type": "code",
      "execution_count": 20,
      "id": "eae74d7c",
      "metadata": {
        "colab": {
          "base_uri": "https://localhost:8080/",
          "height": 614
        },
        "id": "eae74d7c",
        "outputId": "b9de66fc-4cbf-4648-e196-da20cece5339"
      },
      "outputs": [
        {
          "output_type": "display_data",
          "data": {
            "text/plain": [
              "<Figure size 720x720 with 1 Axes>"
            ],
            "image/png": "[encoded data removed]"
          },
          "metadata": {}
        }
      ],
      "source": [
        "plt.figure(figsize=(10,10))\n",
        "sns.countplot(x ='Purchase Date', data = df)\n",
        "plt.show()"
      ]
    },
    {
      "cell_type": "code",
      "execution_count": 21,
      "id": "1d216f5d",
      "metadata": {
        "scrolled": true,
        "colab": {
          "base_uri": "https://localhost:8080/",
          "height": 206
        },
        "id": "1d216f5d",
        "outputId": "471c959a-57f5-4647-d75a-0993e0a2ffdd"
      },
      "outputs": [
        {
          "output_type": "execute_result",
          "data": {
            "text/plain": [
              "  Purchase Date                                Product Name  \\\n",
              "0    09-09-2021                          Macbook Pro 13” i7   \n",
              "1    09-09-2021                          Macbook Pro 13” i7   \n",
              "2    09-09-2021  Dell Multi-device Wireless Mouse - MS5320W   \n",
              "3    09-09-2021                           Apple Magic Mouse   \n",
              "4    09-09-2021                           Apple Magic Mouse   \n",
              "\n",
              "                 OEM  Item Price USD  Ordered Qty  Row Total Shipping Country  \\\n",
              "0        apple-13-i7          1811.0            1     1811.0         Bulgaria   \n",
              "1        apple-13-i7          1811.0            1     1811.0         Bulgaria   \n",
              "2       dell-MS5320W            25.0            1       25.0    United States   \n",
              "3  apple-magic-mouse           100.0            1      100.0         Bulgaria   \n",
              "4  apple-magic-mouse           100.0            1      100.0         Bulgaria   \n",
              "\n",
              "                                              Region  \n",
              "0                                               EMEA  \n",
              "1                                               EMEA  \n",
              "2                                               EMEA  \n",
              "3  Shipping Country Argentina Armenia Australia A...  \n",
              "4  Shipping Country Argentina Armenia Australia A...  "
            ],
            "text/html": [
              "\n",
              "  <div id=\"df-d77370ca-591d-4d25-b2fc-38f887cbbdcc\">\n",
              "    <div class=\"colab-df-container\">\n",
              "      <div>\n",
              "<style scoped>\n",
              "    .dataframe tbody tr th:only-of-type {\n",
              "        vertical-align: middle;\n",
              "    }\n",
              "\n",
              "    .dataframe tbody tr th {\n",
              "        vertical-align: top;\n",
              "    }\n",
              "\n",
              "    .dataframe thead th {\n",
              "        text-align: right;\n",
              "    }\n",
              "</style>\n",
              "<table border=\"1\" class=\"dataframe\">\n",
              "  <thead>\n",
              "    <tr style=\"text-align: right;\">\n",
              "      <th></th>\n",
              "      <th>Purchase Date</th>\n",
              "      <th>Product Name</th>\n",
              "      <th>OEM</th>\n",
              "      <th>Item Price USD</th>\n",
              "      <th>Ordered Qty</th>\n",
              "      <th>Row Total</th>\n",
              "      <th>Shipping Country</th>\n",
              "      <th>Region</th>\n",
              "    </tr>\n",
              "  </thead>\n",
              "  <tbody>\n",
              "    <tr>\n",
              "      <th>0</th>\n",
              "      <td>09-09-2021</td>\n",
              "      <td>Macbook Pro 13” i7</td>\n",
              "      <td>apple-13-i7</td>\n",
              "      <td>1811.0</td>\n",
              "      <td>1</td>\n",
              "      <td>1811.0</td>\n",
              "      <td>Bulgaria</td>\n",
              "      <td>EMEA</td>\n",
              "    </tr>\n",
              "    <tr>\n",
              "      <th>1</th>\n",
              "      <td>09-09-2021</td>\n",
              "      <td>Macbook Pro 13” i7</td>\n",
              "      <td>apple-13-i7</td>\n",
              "      <td>1811.0</td>\n",
              "      <td>1</td>\n",
              "      <td>1811.0</td>\n",
              "      <td>Bulgaria</td>\n",
              "      <td>EMEA</td>\n",
              "    </tr>\n",
              "    <tr>\n",
              "      <th>2</th>\n",
              "      <td>09-09-2021</td>\n",
              "      <td>Dell Multi-device Wireless Mouse - MS5320W</td>\n",
              "      <td>dell-MS5320W</td>\n",
              "      <td>25.0</td>\n",
              "      <td>1</td>\n",
              "      <td>25.0</td>\n",
              "      <td>United States</td>\n",
              "      <td>EMEA</td>\n",
              "    </tr>\n",
              "    <tr>\n",
              "      <th>3</th>\n",
              "      <td>09-09-2021</td>\n",
              "      <td>Apple Magic Mouse</td>\n",
              "      <td>apple-magic-mouse</td>\n",
              "      <td>100.0</td>\n",
              "      <td>1</td>\n",
              "      <td>100.0</td>\n",
              "      <td>Bulgaria</td>\n",
              "      <td>Shipping Country Argentina Armenia Australia A...</td>\n",
              "    </tr>\n",
              "    <tr>\n",
              "      <th>4</th>\n",
              "      <td>09-09-2021</td>\n",
              "      <td>Apple Magic Mouse</td>\n",
              "      <td>apple-magic-mouse</td>\n",
              "      <td>100.0</td>\n",
              "      <td>1</td>\n",
              "      <td>100.0</td>\n",
              "      <td>Bulgaria</td>\n",
              "      <td>Shipping Country Argentina Armenia Australia A...</td>\n",
              "    </tr>\n",
              "  </tbody>\n",
              "</table>\n",
              "</div>\n",
              "      <button class=\"colab-df-convert\" onclick=\"convertToInteractive('df-d77370ca-591d-4d25-b2fc-38f887cbbdcc')\"\n",
              "              title=\"Convert this dataframe to an interactive table.\"\n",
              "              style=\"display:none;\">\n",
              "        \n",
              "  <svg xmlns=\"http://www.w3.org/2000/svg\" height=\"24px\"viewBox=\"0 0 24 24\"\n",
              "       width=\"24px\">\n",
              "    <path d=\"M0 0h24v24H0V0z\" fill=\"none\"/>\n",
              "    <path d=\"M18.56 5.44l.94 2.06.94-2.06 2.06-.94-2.06-.94-.94-2.06-.94 2.06-2.06.94zm-11 1L8.5 8.5l.94-2.06 2.06-.94-2.06-.94L8.5 2.5l-.94 2.06-2.06.94zm10 10l.94 2.06.94-2.06 2.06-.94-2.06-.94-.94-2.06-.94 2.06-2.06.94z\"/><path d=\"M17.41 7.96l-1.37-1.37c-.4-.4-.92-.59-1.43-.59-.52 0-1.04.2-1.43.59L10.3 9.45l-7.72 7.72c-.78.78-.78 2.05 0 2.83L4 21.41c.39.39.9.59 1.41.59.51 0 1.02-.2 1.41-.59l7.78-7.78 2.81-2.81c.8-.78.8-2.07 0-2.86zM5.41 20L4 18.59l7.72-7.72 1.47 1.35L5.41 20z\"/>\n",
              "  </svg>\n",
              "      </button>\n",
              "      \n",
              "  <style>\n",
              "    .colab-df-container {\n",
              "      display:flex;\n",
              "      flex-wrap:wrap;\n",
              "      gap: 12px;\n",
              "    }\n",
              "\n",
              "    .colab-df-convert {\n",
              "      background-color: #E8F0FE;\n",
              "      border: none;\n",
              "      border-radius: 50%;\n",
              "      cursor: pointer;\n",
              "      display: none;\n",
              "      fill: #1967D2;\n",
              "      height: 32px;\n",
              "      padding: 0 0 0 0;\n",
              "      width: 32px;\n",
              "    }\n",
              "\n",
              "    .colab-df-convert:hover {\n",
              "      background-color: #E2EBFA;\n",
              "      box-shadow: 0px 1px 2px rgba(60, 64, 67, 0.3), 0px 1px 3px 1px rgba(60, 64, 67, 0.15);\n",
              "      fill: #174EA6;\n",
              "    }\n",
              "\n",
              "    [theme=dark] .colab-df-convert {\n",
              "      background-color: #3B4455;\n",
              "      fill: #D2E3FC;\n",
              "    }\n",
              "\n",
              "    [theme=dark] .colab-df-convert:hover {\n",
              "      background-color: #434B5C;\n",
              "      box-shadow: 0px 1px 3px 1px rgba(0, 0, 0, 0.15);\n",
              "      filter: drop-shadow(0px 1px 2px rgba(0, 0, 0, 0.3));\n",
              "      fill: #FFFFFF;\n",
              "    }\n",
              "  </style>\n",
              "\n",
              "      <script>\n",
              "        const buttonEl =\n",
              "          document.querySelector('#df-d77370ca-591d-4d25-b2fc-38f887cbbdcc button.colab-df-convert');\n",
              "        buttonEl.style.display =\n",
              "          google.colab.kernel.accessAllowed ? 'block' : 'none';\n",
              "\n",
              "        async function convertToInteractive(key) {\n",
              "          const element = document.querySelector('#df-d77370ca-591d-4d25-b2fc-38f887cbbdcc');\n",
              "          const dataTable =\n",
              "            await google.colab.kernel.invokeFunction('convertToInteractive',\n",
              "                                                     [key], {});\n",
              "          if (!dataTable) return;\n",
              "\n",
              "          const docLinkHtml = 'Like what you see? Visit the ' +\n",
              "            '<a target=\"_blank\" href=https://colab.research.google.com/notebooks/data_table.ipynb>data table notebook</a>'\n",
              "            + ' to learn more about interactive tables.';\n",
              "          element.innerHTML = '';\n",
              "          dataTable['output_type'] = 'display_data';\n",
              "          await google.colab.output.renderOutput(dataTable, element);\n",
              "          const docLink = document.createElement('div');\n",
              "          docLink.innerHTML = docLinkHtml;\n",
              "          element.appendChild(docLink);\n",
              "        }\n",
              "      </script>\n",
              "    </div>\n",
              "  </div>\n",
              "  "
            ]
          },
          "metadata": {},
          "execution_count": 21
        }
      ],
      "source": [
        "#data pre-processing\n",
        "df.head()"
      ]
    },
    {
      "cell_type": "code",
      "execution_count": 22,
      "id": "0948cacc",
      "metadata": {
        "id": "0948cacc"
      },
      "outputs": [],
      "source": [
        "#Label Encoding\n",
        "encoder = LabelEncoder()"
      ]
    },
    {
      "cell_type": "code",
      "execution_count": 23,
      "id": "5f3ddb43",
      "metadata": {
        "id": "5f3ddb43"
      },
      "outputs": [],
      "source": [
        "df['Product Name'] = encoder.fit_transform(df['Product Name'])\n",
        "df['OEM'] = encoder.fit_transform(df['OEM'])\n",
        "df['Shipping Country'] = encoder.fit_transform(df['Shipping Country'])\n",
        "#df['Region'] = encoder.fit_transform(df['Region'])"
      ]
    },
    {
      "cell_type": "code",
      "execution_count": 24,
      "id": "74386480",
      "metadata": {
        "colab": {
          "base_uri": "https://localhost:8080/",
          "height": 206
        },
        "id": "74386480",
        "outputId": "6253a21f-57ec-426a-f731-054445ee95db"
      },
      "outputs": [
        {
          "output_type": "execute_result",
          "data": {
            "text/plain": [
              "  Purchase Date  Product Name  OEM  Item Price USD  Ordered Qty  Row Total  \\\n",
              "0    09-09-2021           114   11          1811.0            1     1811.0   \n",
              "1    09-09-2021           114   11          1811.0            1     1811.0   \n",
              "2    09-09-2021            56  249            25.0            1       25.0   \n",
              "3    09-09-2021            18   65           100.0            1      100.0   \n",
              "4    09-09-2021            18   65           100.0            1      100.0   \n",
              "\n",
              "   Shipping Country                                             Region  \n",
              "0                 6                                               EMEA  \n",
              "1                 6                                               EMEA  \n",
              "2                61                                               EMEA  \n",
              "3                 6  Shipping Country Argentina Armenia Australia A...  \n",
              "4                 6  Shipping Country Argentina Armenia Australia A...  "
            ],
            "text/html": [
              "\n",
              "  <div id=\"df-00e8384f-ea0e-4f5c-a5be-e0f998f32d25\">\n",
              "    <div class=\"colab-df-container\">\n",
              "      <div>\n",
              "<style scoped>\n",
              "    .dataframe tbody tr th:only-of-type {\n",
              "        vertical-align: middle;\n",
              "    }\n",
              "\n",
              "    .dataframe tbody tr th {\n",
              "        vertical-align: top;\n",
              "    }\n",
              "\n",
              "    .dataframe thead th {\n",
              "        text-align: right;\n",
              "    }\n",
              "</style>\n",
              "<table border=\"1\" class=\"dataframe\">\n",
              "  <thead>\n",
              "    <tr style=\"text-align: right;\">\n",
              "      <th></th>\n",
              "      <th>Purchase Date</th>\n",
              "      <th>Product Name</th>\n",
              "      <th>OEM</th>\n",
              "      <th>Item Price USD</th>\n",
              "      <th>Ordered Qty</th>\n",
              "      <th>Row Total</th>\n",
              "      <th>Shipping Country</th>\n",
              "      <th>Region</th>\n",
              "    </tr>\n",
              "  </thead>\n",
              "  <tbody>\n",
              "    <tr>\n",
              "      <th>0</th>\n",
              "      <td>09-09-2021</td>\n",
              "      <td>114</td>\n",
              "      <td>11</td>\n",
              "      <td>1811.0</td>\n",
              "      <td>1</td>\n",
              "      <td>1811.0</td>\n",
              "      <td>6</td>\n",
              "      <td>EMEA</td>\n",
              "    </tr>\n",
              "    <tr>\n",
              "      <th>1</th>\n",
              "      <td>09-09-2021</td>\n",
              "      <td>114</td>\n",
              "      <td>11</td>\n",
              "      <td>1811.0</td>\n",
              "      <td>1</td>\n",
              "      <td>1811.0</td>\n",
              "      <td>6</td>\n",
              "      <td>EMEA</td>\n",
              "    </tr>\n",
              "    <tr>\n",
              "      <th>2</th>\n",
              "      <td>09-09-2021</td>\n",
              "      <td>56</td>\n",
              "      <td>249</td>\n",
              "      <td>25.0</td>\n",
              "      <td>1</td>\n",
              "      <td>25.0</td>\n",
              "      <td>61</td>\n",
              "      <td>EMEA</td>\n",
              "    </tr>\n",
              "    <tr>\n",
              "      <th>3</th>\n",
              "      <td>09-09-2021</td>\n",
              "      <td>18</td>\n",
              "      <td>65</td>\n",
              "      <td>100.0</td>\n",
              "      <td>1</td>\n",
              "      <td>100.0</td>\n",
              "      <td>6</td>\n",
              "      <td>Shipping Country Argentina Armenia Australia A...</td>\n",
              "    </tr>\n",
              "    <tr>\n",
              "      <th>4</th>\n",
              "      <td>09-09-2021</td>\n",
              "      <td>18</td>\n",
              "      <td>65</td>\n",
              "      <td>100.0</td>\n",
              "      <td>1</td>\n",
              "      <td>100.0</td>\n",
              "      <td>6</td>\n",
              "      <td>Shipping Country Argentina Armenia Australia A...</td>\n",
              "    </tr>\n",
              "  </tbody>\n",
              "</table>\n",
              "</div>\n",
              "      <button class=\"colab-df-convert\" onclick=\"convertToInteractive('df-00e8384f-ea0e-4f5c-a5be-e0f998f32d25')\"\n",
              "              title=\"Convert this dataframe to an interactive table.\"\n",
              "              style=\"display:none;\">\n",
              "        \n",
              "  <svg xmlns=\"http://www.w3.org/2000/svg\" height=\"24px\"viewBox=\"0 0 24 24\"\n",
              "       width=\"24px\">\n",
              "    <path d=\"M0 0h24v24H0V0z\" fill=\"none\"/>\n",
              "    <path d=\"M18.56 5.44l.94 2.06.94-2.06 2.06-.94-2.06-.94-.94-2.06-.94 2.06-2.06.94zm-11 1L8.5 8.5l.94-2.06 2.06-.94-2.06-.94L8.5 2.5l-.94 2.06-2.06.94zm10 10l.94 2.06.94-2.06 2.06-.94-2.06-.94-.94-2.06-.94 2.06-2.06.94z\"/><path d=\"M17.41 7.96l-1.37-1.37c-.4-.4-.92-.59-1.43-.59-.52 0-1.04.2-1.43.59L10.3 9.45l-7.72 7.72c-.78.78-.78 2.05 0 2.83L4 21.41c.39.39.9.59 1.41.59.51 0 1.02-.2 1.41-.59l7.78-7.78 2.81-2.81c.8-.78.8-2.07 0-2.86zM5.41 20L4 18.59l7.72-7.72 1.47 1.35L5.41 20z\"/>\n",
              "  </svg>\n",
              "      </button>\n",
              "      \n",
              "  <style>\n",
              "    .colab-df-container {\n",
              "      display:flex;\n",
              "      flex-wrap:wrap;\n",
              "      gap: 12px;\n",
              "    }\n",
              "\n",
              "    .colab-df-convert {\n",
              "      background-color: #E8F0FE;\n",
              "      border: none;\n",
              "      border-radius: 50%;\n",
              "      cursor: pointer;\n",
              "      display: none;\n",
              "      fill: #1967D2;\n",
              "      height: 32px;\n",
              "      padding: 0 0 0 0;\n",
              "      width: 32px;\n",
              "    }\n",
              "\n",
              "    .colab-df-convert:hover {\n",
              "      background-color: #E2EBFA;\n",
              "      box-shadow: 0px 1px 2px rgba(60, 64, 67, 0.3), 0px 1px 3px 1px rgba(60, 64, 67, 0.15);\n",
              "      fill: #174EA6;\n",
              "    }\n",
              "\n",
              "    [theme=dark] .colab-df-convert {\n",
              "      background-color: #3B4455;\n",
              "      fill: #D2E3FC;\n",
              "    }\n",
              "\n",
              "    [theme=dark] .colab-df-convert:hover {\n",
              "      background-color: #434B5C;\n",
              "      box-shadow: 0px 1px 3px 1px rgba(0, 0, 0, 0.15);\n",
              "      filter: drop-shadow(0px 1px 2px rgba(0, 0, 0, 0.3));\n",
              "      fill: #FFFFFF;\n",
              "    }\n",
              "  </style>\n",
              "\n",
              "      <script>\n",
              "        const buttonEl =\n",
              "          document.querySelector('#df-00e8384f-ea0e-4f5c-a5be-e0f998f32d25 button.colab-df-convert');\n",
              "        buttonEl.style.display =\n",
              "          google.colab.kernel.accessAllowed ? 'block' : 'none';\n",
              "\n",
              "        async function convertToInteractive(key) {\n",
              "          const element = document.querySelector('#df-00e8384f-ea0e-4f5c-a5be-e0f998f32d25');\n",
              "          const dataTable =\n",
              "            await google.colab.kernel.invokeFunction('convertToInteractive',\n",
              "                                                     [key], {});\n",
              "          if (!dataTable) return;\n",
              "\n",
              "          const docLinkHtml = 'Like what you see? Visit the ' +\n",
              "            '<a target=\"_blank\" href=https://colab.research.google.com/notebooks/data_table.ipynb>data table notebook</a>'\n",
              "            + ' to learn more about interactive tables.';\n",
              "          element.innerHTML = '';\n",
              "          dataTable['output_type'] = 'display_data';\n",
              "          await google.colab.output.renderOutput(dataTable, element);\n",
              "          const docLink = document.createElement('div');\n",
              "          docLink.innerHTML = docLinkHtml;\n",
              "          element.appendChild(docLink);\n",
              "        }\n",
              "      </script>\n",
              "    </div>\n",
              "  </div>\n",
              "  "
            ]
          },
          "metadata": {},
          "execution_count": 24
        }
      ],
      "source": [
        "df.head()"
      ]
    },
    {
      "cell_type": "code",
      "execution_count": 25,
      "id": "32352987",
      "metadata": {
        "id": "32352987"
      },
      "outputs": [],
      "source": [
        "df= df.drop(['Region'], axis =1 )"
      ]
    },
    {
      "cell_type": "code",
      "execution_count": 26,
      "id": "38f46584",
      "metadata": {
        "colab": {
          "base_uri": "https://localhost:8080/",
          "height": 206
        },
        "id": "38f46584",
        "outputId": "aa940482-ef8c-4097-f03b-cc630f6a9343"
      },
      "outputs": [
        {
          "output_type": "execute_result",
          "data": {
            "text/plain": [
              "  Purchase Date  Product Name  OEM  Item Price USD  Ordered Qty  Row Total  \\\n",
              "0    09-09-2021           114   11          1811.0            1     1811.0   \n",
              "1    09-09-2021           114   11          1811.0            1     1811.0   \n",
              "2    09-09-2021            56  249            25.0            1       25.0   \n",
              "3    09-09-2021            18   65           100.0            1      100.0   \n",
              "4    09-09-2021            18   65           100.0            1      100.0   \n",
              "\n",
              "   Shipping Country  \n",
              "0                 6  \n",
              "1                 6  \n",
              "2                61  \n",
              "3                 6  \n",
              "4                 6  "
            ],
            "text/html": [
              "\n",
              "  <div id=\"df-1a719025-fd37-45a2-9c88-476e31d3a2ec\">\n",
              "    <div class=\"colab-df-container\">\n",
              "      <div>\n",
              "<style scoped>\n",
              "    .dataframe tbody tr th:only-of-type {\n",
              "        vertical-align: middle;\n",
              "    }\n",
              "\n",
              "    .dataframe tbody tr th {\n",
              "        vertical-align: top;\n",
              "    }\n",
              "\n",
              "    .dataframe thead th {\n",
              "        text-align: right;\n",
              "    }\n",
              "</style>\n",
              "<table border=\"1\" class=\"dataframe\">\n",
              "  <thead>\n",
              "    <tr style=\"text-align: right;\">\n",
              "      <th></th>\n",
              "      <th>Purchase Date</th>\n",
              "      <th>Product Name</th>\n",
              "      <th>OEM</th>\n",
              "      <th>Item Price USD</th>\n",
              "      <th>Ordered Qty</th>\n",
              "      <th>Row Total</th>\n",
              "      <th>Shipping Country</th>\n",
              "    </tr>\n",
              "  </thead>\n",
              "  <tbody>\n",
              "    <tr>\n",
              "      <th>0</th>\n",
              "      <td>09-09-2021</td>\n",
              "      <td>114</td>\n",
              "      <td>11</td>\n",
              "      <td>1811.0</td>\n",
              "      <td>1</td>\n",
              "      <td>1811.0</td>\n",
              "      <td>6</td>\n",
              "    </tr>\n",
              "    <tr>\n",
              "      <th>1</th>\n",
              "      <td>09-09-2021</td>\n",
              "      <td>114</td>\n",
              "      <td>11</td>\n",
              "      <td>1811.0</td>\n",
              "      <td>1</td>\n",
              "      <td>1811.0</td>\n",
              "      <td>6</td>\n",
              "    </tr>\n",
              "    <tr>\n",
              "      <th>2</th>\n",
              "      <td>09-09-2021</td>\n",
              "      <td>56</td>\n",
              "      <td>249</td>\n",
              "      <td>25.0</td>\n",
              "      <td>1</td>\n",
              "      <td>25.0</td>\n",
              "      <td>61</td>\n",
              "    </tr>\n",
              "    <tr>\n",
              "      <th>3</th>\n",
              "      <td>09-09-2021</td>\n",
              "      <td>18</td>\n",
              "      <td>65</td>\n",
              "      <td>100.0</td>\n",
              "      <td>1</td>\n",
              "      <td>100.0</td>\n",
              "      <td>6</td>\n",
              "    </tr>\n",
              "    <tr>\n",
              "      <th>4</th>\n",
              "      <td>09-09-2021</td>\n",
              "      <td>18</td>\n",
              "      <td>65</td>\n",
              "      <td>100.0</td>\n",
              "      <td>1</td>\n",
              "      <td>100.0</td>\n",
              "      <td>6</td>\n",
              "    </tr>\n",
              "  </tbody>\n",
              "</table>\n",
              "</div>\n",
              "      <button class=\"colab-df-convert\" onclick=\"convertToInteractive('df-1a719025-fd37-45a2-9c88-476e31d3a2ec')\"\n",
              "              title=\"Convert this dataframe to an interactive table.\"\n",
              "              style=\"display:none;\">\n",
              "        \n",
              "  <svg xmlns=\"http://www.w3.org/2000/svg\" height=\"24px\"viewBox=\"0 0 24 24\"\n",
              "       width=\"24px\">\n",
              "    <path d=\"M0 0h24v24H0V0z\" fill=\"none\"/>\n",
              "    <path d=\"M18.56 5.44l.94 2.06.94-2.06 2.06-.94-2.06-.94-.94-2.06-.94 2.06-2.06.94zm-11 1L8.5 8.5l.94-2.06 2.06-.94-2.06-.94L8.5 2.5l-.94 2.06-2.06.94zm10 10l.94 2.06.94-2.06 2.06-.94-2.06-.94-.94-2.06-.94 2.06-2.06.94z\"/><path d=\"M17.41 7.96l-1.37-1.37c-.4-.4-.92-.59-1.43-.59-.52 0-1.04.2-1.43.59L10.3 9.45l-7.72 7.72c-.78.78-.78 2.05 0 2.83L4 21.41c.39.39.9.59 1.41.59.51 0 1.02-.2 1.41-.59l7.78-7.78 2.81-2.81c.8-.78.8-2.07 0-2.86zM5.41 20L4 18.59l7.72-7.72 1.47 1.35L5.41 20z\"/>\n",
              "  </svg>\n",
              "      </button>\n",
              "      \n",
              "  <style>\n",
              "    .colab-df-container {\n",
              "      display:flex;\n",
              "      flex-wrap:wrap;\n",
              "      gap: 12px;\n",
              "    }\n",
              "\n",
              "    .colab-df-convert {\n",
              "      background-color: #E8F0FE;\n",
              "      border: none;\n",
              "      border-radius: 50%;\n",
              "      cursor: pointer;\n",
              "      display: none;\n",
              "      fill: #1967D2;\n",
              "      height: 32px;\n",
              "      padding: 0 0 0 0;\n",
              "      width: 32px;\n",
              "    }\n",
              "\n",
              "    .colab-df-convert:hover {\n",
              "      background-color: #E2EBFA;\n",
              "      box-shadow: 0px 1px 2px rgba(60, 64, 67, 0.3), 0px 1px 3px 1px rgba(60, 64, 67, 0.15);\n",
              "      fill: #174EA6;\n",
              "    }\n",
              "\n",
              "    [theme=dark] .colab-df-convert {\n",
              "      background-color: #3B4455;\n",
              "      fill: #D2E3FC;\n",
              "    }\n",
              "\n",
              "    [theme=dark] .colab-df-convert:hover {\n",
              "      background-color: #434B5C;\n",
              "      box-shadow: 0px 1px 3px 1px rgba(0, 0, 0, 0.15);\n",
              "      filter: drop-shadow(0px 1px 2px rgba(0, 0, 0, 0.3));\n",
              "      fill: #FFFFFF;\n",
              "    }\n",
              "  </style>\n",
              "\n",
              "      <script>\n",
              "        const buttonEl =\n",
              "          document.querySelector('#df-1a719025-fd37-45a2-9c88-476e31d3a2ec button.colab-df-convert');\n",
              "        buttonEl.style.display =\n",
              "          google.colab.kernel.accessAllowed ? 'block' : 'none';\n",
              "\n",
              "        async function convertToInteractive(key) {\n",
              "          const element = document.querySelector('#df-1a719025-fd37-45a2-9c88-476e31d3a2ec');\n",
              "          const dataTable =\n",
              "            await google.colab.kernel.invokeFunction('convertToInteractive',\n",
              "                                                     [key], {});\n",
              "          if (!dataTable) return;\n",
              "\n",
              "          const docLinkHtml = 'Like what you see? Visit the ' +\n",
              "            '<a target=\"_blank\" href=https://colab.research.google.com/notebooks/data_table.ipynb>data table notebook</a>'\n",
              "            + ' to learn more about interactive tables.';\n",
              "          element.innerHTML = '';\n",
              "          dataTable['output_type'] = 'display_data';\n",
              "          await google.colab.output.renderOutput(dataTable, element);\n",
              "          const docLink = document.createElement('div');\n",
              "          docLink.innerHTML = docLinkHtml;\n",
              "          element.appendChild(docLink);\n",
              "        }\n",
              "      </script>\n",
              "    </div>\n",
              "  </div>\n",
              "  "
            ]
          },
          "metadata": {},
          "execution_count": 26
        }
      ],
      "source": [
        "df.head()"
      ]
    },
    {
      "cell_type": "code",
      "execution_count": 27,
      "id": "5a97654c",
      "metadata": {
        "id": "5a97654c"
      },
      "outputs": [],
      "source": [
        "x = df.drop(columns = ['Row Total','Purchase Date'], axis =1)\n",
        "y = df['Row Total']"
      ]
    },
    {
      "cell_type": "code",
      "execution_count": 28,
      "id": "15516286",
      "metadata": {
        "colab": {
          "base_uri": "https://localhost:8080/"
        },
        "id": "15516286",
        "outputId": "f946ca8a-6ee1-4016-f875-95181bd0c1f5"
      },
      "outputs": [
        {
          "output_type": "stream",
          "name": "stdout",
          "text": [
            "       Product Name  OEM  Item Price USD  Ordered Qty  Shipping Country\n",
            "0               114   11         1811.00            1                 6\n",
            "1               114   11         1811.00            1                 6\n",
            "2                56  249           25.00            1                61\n",
            "3                18   65          100.00            1                 6\n",
            "4                18   65          100.00            1                 6\n",
            "...             ...  ...             ...          ...               ...\n",
            "25025            51  212         1360.00            1                60\n",
            "25026            81  242           40.00            1                 6\n",
            "25027            90  303           79.00            1                 6\n",
            "25028            95  341        10800.00            1                22\n",
            "25029            62  200       205620.87            1                22\n",
            "\n",
            "[25030 rows x 5 columns]\n"
          ]
        }
      ],
      "source": [
        "print(x)"
      ]
    },
    {
      "cell_type": "code",
      "execution_count": 29,
      "id": "7dde8360",
      "metadata": {
        "colab": {
          "base_uri": "https://localhost:8080/"
        },
        "id": "7dde8360",
        "outputId": "c415bba6-41f7-4a4d-ed8e-4a876c251efe"
      },
      "outputs": [
        {
          "output_type": "stream",
          "name": "stdout",
          "text": [
            "0          1811.00\n",
            "1          1811.00\n",
            "2            25.00\n",
            "3           100.00\n",
            "4           100.00\n",
            "           ...    \n",
            "25025      1360.00\n",
            "25026        40.00\n",
            "25027        79.00\n",
            "25028     10800.00\n",
            "25029    205620.87\n",
            "Name: Row Total, Length: 25030, dtype: float64\n"
          ]
        }
      ],
      "source": [
        "print(y)"
      ]
    },
    {
      "cell_type": "code",
      "execution_count": 30,
      "id": "bc80aea3",
      "metadata": {
        "id": "bc80aea3"
      },
      "outputs": [],
      "source": [
        "#splitting data into training and testing data\n",
        "x_train, x_test , y_train , y_test = train_test_split(x, y, test_size = 0.2 , random_state = 2 )"
      ]
    },
    {
      "cell_type": "code",
      "execution_count": 31,
      "id": "148c64a4",
      "metadata": {
        "colab": {
          "base_uri": "https://localhost:8080/"
        },
        "id": "148c64a4",
        "outputId": "ff42d7a5-c607-4353-b36e-57ae44e38c93"
      },
      "outputs": [
        {
          "output_type": "stream",
          "name": "stdout",
          "text": [
            "(25030, 5) (20024, 5) (5006, 5)\n"
          ]
        }
      ],
      "source": [
        "print(x.shape, x_train.shape, x_test.shape)"
      ]
    },
    {
      "cell_type": "code",
      "execution_count": 32,
      "id": "2f9b43af",
      "metadata": {
        "colab": {
          "base_uri": "https://localhost:8080/"
        },
        "id": "2f9b43af",
        "outputId": "6537af6e-2325-4cdd-da63-faa263daedb6"
      },
      "outputs": [
        {
          "output_type": "stream",
          "name": "stdout",
          "text": [
            "(25030,) (20024,) (5006,)\n"
          ]
        }
      ],
      "source": [
        "print(y.shape, y_train.shape, y_test.shape)"
      ]
    },
    {
      "cell_type": "code",
      "execution_count": 33,
      "id": "95bc78c6",
      "metadata": {
        "id": "95bc78c6"
      },
      "outputs": [],
      "source": [
        "#Machine Learning model training\n",
        "# XGBoost Regressor\n",
        "regressor = XGBRegressor()"
      ]
    },
    {
      "cell_type": "code",
      "execution_count": 34,
      "id": "adddb47a",
      "metadata": {
        "colab": {
          "base_uri": "https://localhost:8080/"
        },
        "id": "adddb47a",
        "outputId": "c149288d-22e8-4df5-d0d9-d073aad80b88"
      },
      "outputs": [
        {
          "output_type": "stream",
          "name": "stdout",
          "text": [
            "[19:25:24] WARNING: /workspace/src/objective/regression_obj.cu:152: reg:linear is now deprecated in favor of reg:squarederror.\n"
          ]
        },
        {
          "output_type": "execute_result",
          "data": {
            "text/plain": [
              "XGBRegressor()"
            ]
          },
          "metadata": {},
          "execution_count": 34
        }
      ],
      "source": [
        "regressor.fit(x_train, y_train)"
      ]
    },
    {
      "cell_type": "code",
      "execution_count": 35,
      "id": "c1ab53f8",
      "metadata": {
        "id": "c1ab53f8"
      },
      "outputs": [],
      "source": [
        "#evaluation of the model\n",
        "training_prediction = regressor.predict(x_train)"
      ]
    },
    {
      "cell_type": "code",
      "execution_count": 36,
      "id": "f4359117",
      "metadata": {
        "colab": {
          "base_uri": "https://localhost:8080/"
        },
        "id": "f4359117",
        "outputId": "f0edea42-62d7-42e2-eb04-488259ec63f1"
      },
      "outputs": [
        {
          "output_type": "stream",
          "name": "stdout",
          "text": [
            "[  67.35276    44.513927   43.190735 ...  326.7545    148.71693\n",
            " 1358.4506  ]\n"
          ]
        }
      ],
      "source": [
        "print(training_prediction)"
      ]
    },
    {
      "cell_type": "code",
      "execution_count": 37,
      "id": "b154a9c0",
      "metadata": {
        "id": "b154a9c0"
      },
      "outputs": [],
      "source": [
        "r2_score_train = metrics.r2_score(y_train, training_prediction)"
      ]
    },
    {
      "cell_type": "code",
      "execution_count": 38,
      "id": "486ef65a",
      "metadata": {
        "colab": {
          "base_uri": "https://localhost:8080/"
        },
        "id": "486ef65a",
        "outputId": "d1dbd8d5-b96c-4c49-8c97-efbf7b4fd4e7"
      },
      "outputs": [
        {
          "output_type": "stream",
          "name": "stdout",
          "text": [
            "R Squared value train : 0.9999979473656844\n"
          ]
        }
      ],
      "source": [
        "print('R Squared value train :', r2_score_train)"
      ]
    },
    {
      "cell_type": "code",
      "execution_count": 39,
      "id": "a858f2b4",
      "metadata": {
        "id": "a858f2b4"
      },
      "outputs": [],
      "source": [
        "#predict for test data\n",
        "test_prediction = regressor.predict(x_test)"
      ]
    },
    {
      "cell_type": "code",
      "execution_count": 40,
      "id": "9585af23",
      "metadata": {
        "colab": {
          "base_uri": "https://localhost:8080/"
        },
        "id": "9585af23",
        "outputId": "fa0d60c1-c20e-4345-8dd4-82422a2f02fd"
      },
      "outputs": [
        {
          "output_type": "stream",
          "name": "stdout",
          "text": [
            "[1.1088238e+01 1.0114380e+02 1.1408765e+01 ... 4.0997227e+04 2.5182907e+02\n",
            " 3.2675449e+02]\n"
          ]
        }
      ],
      "source": [
        "print(test_prediction)"
      ]
    },
    {
      "cell_type": "code",
      "execution_count": 41,
      "id": "93fd3941",
      "metadata": {
        "id": "93fd3941"
      },
      "outputs": [],
      "source": [
        "r2_score_test = metrics.r2_score(y_test, test_prediction)"
      ]
    },
    {
      "cell_type": "code",
      "execution_count": 42,
      "id": "12c2205b",
      "metadata": {
        "colab": {
          "base_uri": "https://localhost:8080/"
        },
        "id": "12c2205b",
        "outputId": "6d1474af-f8dd-4ace-bc62-be5c58eb5239"
      },
      "outputs": [
        {
          "output_type": "stream",
          "name": "stdout",
          "text": [
            "R Squared value test: 0.9999964345664892\n"
          ]
        }
      ],
      "source": [
        "print('R Squared value test:', r2_score_test)"
      ]
    },
    {
      "cell_type": "code",
      "execution_count": 43,
      "id": "e30258f0",
      "metadata": {
        "colab": {
          "base_uri": "https://localhost:8080/",
          "height": 286
        },
        "id": "e30258f0",
        "outputId": "56ba07f1-1e66-449f-b5cc-f6c18aef5cc8"
      },
      "outputs": [
        {
          "output_type": "display_data",
          "data": {
            "text/plain": [
              "<Figure size 432x288 with 1 Axes>"
            ],
            "image/png": "[encoded data removed]"
          },
          "metadata": {}
        }
      ],
      "source": [
        "plt.plot(y_test, test_prediction, color = 'red')\n",
        "plt.title('Actaul sales vs Forecasted sales')\n",
        "plt.show()"
      ]
    },
    {
      "cell_type": "code",
      "source": [
        "from sklearn.linear_model import LinearRegression"
      ],
      "metadata": {
        "id": "_rm05IvJ1S-5"
      },
      "id": "_rm05IvJ1S-5",
      "execution_count": 44,
      "outputs": []
    },
    {
      "cell_type": "code",
      "execution_count": 45,
      "id": "482a0968",
      "metadata": {
        "colab": {
          "base_uri": "https://localhost:8080/"
        },
        "id": "482a0968",
        "outputId": "ad8ed619-930e-442a-8a62-e58824c50c54"
      },
      "outputs": [
        {
          "output_type": "execute_result",
          "data": {
            "text/plain": [
              "LinearRegression()"
            ]
          },
          "metadata": {},
          "execution_count": 45
        }
      ],
      "source": [
        "LRClassifier = LinearRegression ()# object  of algorithm\n",
        "LRClassifier.fit (x_train, y_train)"
      ]
    },
    {
      "cell_type": "code",
      "source": [
        "m=LRClassifier.coef_  # slope\n",
        "c=LRClassifier.intercept_   #intersecpt\n",
        "print(\"slope\",m)\n",
        "print(\"intercept\",c)\n"
      ],
      "metadata": {
        "colab": {
          "base_uri": "https://localhost:8080/"
        },
        "id": "z1NaDk3l6q7b",
        "outputId": "5701b965-602c-4194-86d8-3d6589b28892"
      },
      "id": "z1NaDk3l6q7b",
      "execution_count": 46,
      "outputs": [
        {
          "output_type": "stream",
          "name": "stdout",
          "text": [
            "slope [ 5.74020983e-03  2.63891327e-02  1.00007338e+00  6.39087310e+03\n",
            " -1.49550022e-01]\n",
            "intercept -6392.16025452272\n"
          ]
        }
      ]
    },
    {
      "cell_type": "code",
      "source": [
        "prediction = LRClassifier.predict (x_train)\n",
        "print(prediction)"
      ],
      "metadata": {
        "colab": {
          "base_uri": "https://localhost:8080/"
        },
        "id": "LkfuP3_48Zn0",
        "outputId": "2cdfac35-9c90-4152-fd15-f1043dfca361"
      },
      "id": "LkfuP3_48Zn0",
      "execution_count": 47,
      "outputs": [
        {
          "output_type": "stream",
          "name": "stdout",
          "text": [
            "[  71.58255746   37.2653161    44.66960775 ...  336.01467119  146.38998156\n",
            " 1361.13944708]\n"
          ]
        }
      ]
    },
    {
      "cell_type": "code",
      "source": [
        "r1_score_train = metrics.r2_score(y_train, prediction)"
      ],
      "metadata": {
        "id": "ui6nfOq-8fQm"
      },
      "id": "ui6nfOq-8fQm",
      "execution_count": 48,
      "outputs": []
    },
    {
      "cell_type": "code",
      "source": [
        "print('R Squared value train :', r1_score_train)"
      ],
      "metadata": {
        "colab": {
          "base_uri": "https://localhost:8080/"
        },
        "id": "Mc07PaiW8hAT",
        "outputId": "a04dd980-6de1-412d-8925-5b99c41c4b1c"
      },
      "id": "Mc07PaiW8hAT",
      "execution_count": 49,
      "outputs": [
        {
          "output_type": "stream",
          "name": "stdout",
          "text": [
            "R Squared value train : 0.9999144745955831\n"
          ]
        }
      ]
    },
    {
      "cell_type": "code",
      "source": [
        "#predict for test data\n",
        "LR_test_prediction = LRClassifier.predict(x_test)"
      ],
      "metadata": {
        "id": "J8oyGd4p-Mvp"
      },
      "id": "J8oyGd4p-Mvp",
      "execution_count": 50,
      "outputs": []
    },
    {
      "cell_type": "code",
      "source": [
        "print(LR_test_prediction)"
      ],
      "metadata": {
        "colab": {
          "base_uri": "https://localhost:8080/"
        },
        "id": "5Mrz3w1r-dmM",
        "outputId": "321e839c-452f-4659-a19d-63cb1477be1b"
      },
      "id": "5Mrz3w1r-dmM",
      "execution_count": 51,
      "outputs": [
        {
          "output_type": "stream",
          "name": "stdout",
          "text": [
            "[ 5.66891071e-01  9.72487003e+01 -2.74843566e+00 ...  4.10128123e+04\n",
            "  2.44479915e+02  3.27191220e+02]\n"
          ]
        }
      ]
    },
    {
      "cell_type": "code",
      "source": [
        "r1_score_test = metrics.r2_score(y_test, LR_test_prediction)"
      ],
      "metadata": {
        "id": "DBnBmdx0-n4X"
      },
      "id": "DBnBmdx0-n4X",
      "execution_count": 52,
      "outputs": []
    },
    {
      "cell_type": "code",
      "source": [
        "print('R Squared value test:', r1_score_test)"
      ],
      "metadata": {
        "colab": {
          "base_uri": "https://localhost:8080/"
        },
        "id": "HEnSMVGQ_KDP",
        "outputId": "d7a9bb2b-653e-458a-dd81-67f9d0424368"
      },
      "id": "HEnSMVGQ_KDP",
      "execution_count": 53,
      "outputs": [
        {
          "output_type": "stream",
          "name": "stdout",
          "text": [
            "R Squared value test: 0.999951250891881\n"
          ]
        }
      ]
    },
    {
      "cell_type": "code",
      "source": [
        "plt.plot(y_test, LR_test_prediction, color = 'red')\n",
        "plt.title('Actaul sales vs Forecasted sales')\n",
        "plt.show()"
      ],
      "metadata": {
        "colab": {
          "base_uri": "https://localhost:8080/",
          "height": 286
        },
        "id": "lNfTJpdw_ZAo",
        "outputId": "b615642b-b6a4-4f07-e992-a7b858bf680b"
      },
      "id": "lNfTJpdw_ZAo",
      "execution_count": 54,
      "outputs": [
        {
          "output_type": "display_data",
          "data": {
            "text/plain": [
              "<Figure size 432x288 with 1 Axes>"
            ],
            "image/png": "[encoded data removed]"
          },
          "metadata": {}
        }
      ]
    },
    {
      "cell_type": "code",
      "source": [
        "import os\n",
        "import sys\n",
        "import pickle\n",
        "\n",
        "projectabspathname = os.path.abspath('Oasis_Store.pickle')\n",
        "print(projectabspathname)\n",
        "projectname = 'Oasis_Store.ipynb'\n",
        "projectpickle = open(str(projectabspathname),'wb')\n",
        "pickle.dump(projectname, projectpickle)\n",
        "projectpickle.close()"
      ],
      "metadata": {
        "colab": {
          "base_uri": "https://localhost:8080/"
        },
        "id": "ply3Nx-fOxnQ",
        "outputId": "3df57fb6-afa3-46c4-c101-8ac60f032114"
      },
      "id": "ply3Nx-fOxnQ",
      "execution_count": 55,
      "outputs": [
        {
          "output_type": "stream",
          "name": "stdout",
          "text": [
            "/content/Oasis_Store.pickle\n"
          ]
        }
      ]
    },
    {
      "cell_type": "code",
      "source": [
        ""
      ],
      "metadata": {
        "id": "HIuH5zqLP4X0"
      },
      "id": "HIuH5zqLP4X0",
      "execution_count": 55,
      "outputs": []
    }
  ],
  "metadata": {
    "kernelspec": {
      "display_name": "Python 3 (ipykernel)",
      "language": "python",
      "name": "python3"
    },
    "language_info": {
      "codemirror_mode": {
        "name": "ipython",
        "version": 3
      },
      "file_extension": ".py",
      "mimetype": "text/x-python",
      "name": "python",
      "nbconvert_exporter": "python",
      "pygments_lexer": "ipython3",
      "version": "3.9.7"
    },
    "colab": {
      "name": "Oasis_Store.ipynb",
      "provenance": []
    }
  },
  "nbformat": 4,
  "nbformat_minor": 5
}